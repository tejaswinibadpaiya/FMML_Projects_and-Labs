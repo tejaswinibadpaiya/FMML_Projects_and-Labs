{
  "nbformat": 4,
  "nbformat_minor": 0,
  "metadata": {
    "colab": {
      "provenance": []
    },
    "kernelspec": {
      "name": "python3",
      "display_name": "Python 3"
    },
    "language_info": {
      "name": "python"
    }
  },
  "cells": [
    {
      "cell_type": "code",
      "source": [
        "import torch\n",
        "import torch.nn as nn\n",
        "import torch.optim as optim\n",
        "from torch.utils.data import DataLoader, Dataset\n",
        "import matplotlib.pyplot as plt\n",
        "import numpy as np\n"
      ],
      "metadata": {
        "id": "kZvUnA-ydWjo"
      },
      "execution_count": 8,
      "outputs": []
    },
    {
      "cell_type": "code",
      "source": [
        "class CyrillicHandwritingDataset(Dataset):\n",
        "    def __init__(self, num_samples=1000, img_size=(32, 32), num_classes=33):\n",
        "        self.num_samples = num_samples\n",
        "        self.img_size = img_size\n",
        "        self.num_classes = num_classes\n",
        "\n",
        "        # Create synthetic data\n",
        "        self.data = torch.randn(num_samples, 1, *img_size)\n",
        "        self.labels = torch.randint(0, num_classes, (num_samples,))\n",
        "\n",
        "    def __len__(self):\n",
        "        return self.num_samples\n",
        "\n",
        "    def __getitem__(self, idx):\n",
        "        sample = self.data[idx]\n",
        "        label = self.labels[idx]\n",
        "        return sample, label\n",
        "\n",
        "# Create dataset and dataloaders\n",
        "train_dataset = CyrillicHandwritingDataset()\n",
        "train_loader = DataLoader(train_dataset, batch_size=32, shuffle=True)\n"
      ],
      "metadata": {
        "id": "Ow28tqKbdXw8"
      },
      "execution_count": 9,
      "outputs": []
    },
    {
      "cell_type": "code",
      "source": [
        "class TransformerModel(nn.Module):\n",
        "    def __init__(self, input_dim, num_classes, num_heads=8, num_layers=6, hidden_dim=512):\n",
        "        super(TransformerModel, self).__init__()\n",
        "        self.embedding = nn.Linear(input_dim, hidden_dim)\n",
        "        self.transformer = nn.Transformer(d_model=hidden_dim, nhead=num_heads, num_encoder_layers=num_layers)\n",
        "        self.fc = nn.Linear(hidden_dim, num_classes)\n",
        "\n",
        "    def forward(self, x):\n",
        "        x = x.view(x.size(0), -1)  # Flatten the images\n",
        "        x = self.embedding(x).unsqueeze(1)  # Add sequence dimension\n",
        "        transformer_out = self.transformer(x, x)\n",
        "        out = self.fc(transformer_out.squeeze(1))\n",
        "        return out\n",
        "\n",
        "# Define model, loss function, and optimizer\n",
        "input_dim = 32 * 32  # Image size flattened\n",
        "num_classes = 33  # Number of Cyrillic characters\n",
        "\n",
        "model = TransformerModel(input_dim, num_classes)\n",
        "criterion = nn.CrossEntropyLoss()\n",
        "optimizer = optim.Adam(model.parameters(), lr=0.001)\n"
      ],
      "metadata": {
        "id": "fV7-Awa3dZeT"
      },
      "execution_count": 10,
      "outputs": []
    },
    {
      "cell_type": "code",
      "source": [
        "num_epochs = 5\n",
        "\n",
        "for epoch in range(num_epochs):\n",
        "    model.train()\n",
        "    running_loss = 0.0\n",
        "    for images, labels in train_loader:\n",
        "        optimizer.zero_grad()\n",
        "        outputs = model(images)\n",
        "        loss = criterion(outputs, labels)\n",
        "        loss.backward()\n",
        "        optimizer.step()\n",
        "        running_loss += loss.item()\n",
        "\n",
        "    print(f'Epoch [{epoch+1}/{num_epochs}], Loss: {running_loss/len(train_loader):.4f}')\n"
      ],
      "metadata": {
        "colab": {
          "base_uri": "https://localhost:8080/"
        },
        "id": "MG8ez9P5da4x",
        "outputId": "fa2a17b3-a743-4f1b-ff20-7645d447a984"
      },
      "execution_count": 11,
      "outputs": [
        {
          "output_type": "stream",
          "name": "stdout",
          "text": [
            "Epoch [1/5], Loss: 3.8276\n",
            "Epoch [2/5], Loss: 3.6416\n",
            "Epoch [3/5], Loss: 3.6261\n",
            "Epoch [4/5], Loss: 3.5961\n",
            "Epoch [5/5], Loss: 3.6079\n"
          ]
        }
      ]
    },
    {
      "cell_type": "code",
      "source": [
        "# Create test dataset and dataloader (using synthetic data for example)\n",
        "test_dataset = CyrillicHandwritingDataset()\n",
        "test_loader = DataLoader(test_dataset, batch_size=32, shuffle=False)\n",
        "\n",
        "# Evaluate the model\n",
        "model.eval()\n",
        "correct = 0\n",
        "total = 0\n",
        "\n",
        "with torch.no_grad():\n",
        "    for images, labels in test_loader:\n",
        "        outputs = model(images)\n",
        "        _, predicted = torch.max(outputs.data, 1)\n",
        "        total += labels.size(0)\n",
        "        correct += (predicted == labels).sum().item()\n",
        "\n",
        "print(f'Accuracy: {100 * correct / total:.2f}%')\n"
      ],
      "metadata": {
        "colab": {
          "base_uri": "https://localhost:8080/"
        },
        "id": "sOUqof41d_gu",
        "outputId": "d7344ff7-eef0-4181-f8ea-335a846bfa92"
      },
      "execution_count": 12,
      "outputs": [
        {
          "output_type": "stream",
          "name": "stdout",
          "text": [
            "Accuracy: 3.20%\n"
          ]
        }
      ]
    }
  ]
}